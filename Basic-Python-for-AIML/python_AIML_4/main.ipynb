{
 "cells": [
  {
   "cell_type": "markdown",
   "id": "760f966a",
   "metadata": {},
   "source": [
    "# Learning Python Functions"
   ]
  },
  {
   "cell_type": "code",
   "execution_count": 3,
   "id": "8a03389c",
   "metadata": {},
   "outputs": [
    {
     "name": "stdout",
     "output_type": "stream",
     "text": [
      "0\n",
      "1\n"
     ]
    }
   ],
   "source": [
    "def count(i):\n",
    "    for a in range(i):\n",
    "        print(a)\n",
    "\n",
    "count(2)"
   ]
  },
  {
   "cell_type": "markdown",
   "id": "bc9f50f9",
   "metadata": {},
   "source": [
    "# Investigating Numpy and Pandas"
   ]
  },
  {
   "cell_type": "markdown",
   "id": "fa3e0ca9",
   "metadata": {},
   "source": [
    "## Installing Numpy"
   ]
  },
  {
   "cell_type": "code",
   "execution_count": null,
   "id": "681041c7",
   "metadata": {},
   "outputs": [],
   "source": [
    "pip install numpy"
   ]
  },
  {
   "cell_type": "markdown",
   "id": "e9716cf3",
   "metadata": {},
   "source": [
    "##  Creating Arrays"
   ]
  },
  {
   "cell_type": "code",
   "execution_count": 4,
   "id": "864c9877",
   "metadata": {},
   "outputs": [
    {
     "name": "stdout",
     "output_type": "stream",
     "text": [
      "[1 2 3]\n",
      "[[[[1 2]\n",
      "   [2 3]]\n",
      "\n",
      "  [[1 2]\n",
      "   [2 3]]]\n",
      "\n",
      "\n",
      " [[[1 2]\n",
      "   [2 3]]\n",
      "\n",
      "  [[1 2]\n",
      "   [2 3]]]]\n"
     ]
    }
   ],
   "source": [
    "import numpy as np\n",
    "\n",
    "a = [1,2,3]\n",
    "\n",
    "x = np.array(a)\n",
    "print(x)\n",
    "\n",
    "y = np.array([[[[1,2],[2,3]],[[1,2],[2,3]]],[[[1,2],[2,3]],[[1,2],[2,3]]]])\n",
    "print(y)\n"
   ]
  },
  {
   "cell_type": "markdown",
   "id": "bcc109e5",
   "metadata": {},
   "source": [
    "## Installing Pandas"
   ]
  },
  {
   "cell_type": "code",
   "execution_count": null,
   "id": "d5e5a4b5",
   "metadata": {},
   "outputs": [],
   "source": [
    "pip install pandas"
   ]
  },
  {
   "cell_type": "markdown",
   "id": "0a1931b4",
   "metadata": {},
   "source": [
    "## Creating Series and Dataframes"
   ]
  },
  {
   "cell_type": "code",
   "execution_count": 5,
   "id": "a65403a2",
   "metadata": {},
   "outputs": [
    {
     "name": "stdout",
     "output_type": "stream",
     "text": [
      "Pandas series:\\0    10\n",
      "1    20\n",
      "2    30\n",
      "3    40\n",
      "Name: MyNumbers, dtype: int64\n",
      "Type of Series:<class 'pandas.core.series.Series'>\n",
      "      Name  Age      City  Salary\n",
      "0    Alice   25  New York   70000\n",
      "1      Bob   39    London   80000\n",
      "2  Charlie   40     Paris   90000\n",
      "3    David   12  New York       0\n"
     ]
    }
   ],
   "source": [
    "import pandas as pd\n",
    "\n",
    "s = pd.Series([10,20,30,40],name='MyNumbers')\n",
    "print(f\"Pandas series:\\{s}\")\n",
    "print(f\"Type of Series:{type(s)}\")\n",
    "\n",
    "dataframe = {\n",
    "    'Name':['Alice','Bob','Charlie','David'],\n",
    "    'Age':[25,39,40,12],\n",
    "    'City': ['New York','London','Paris','New York'],\n",
    "    'Salary': [70000,80000,90000,0]\n",
    "}\n",
    "\n",
    "df = pd.DataFrame(dataframe)\n",
    "print(df)"
   ]
  },
  {
   "cell_type": "code",
   "execution_count": 6,
   "id": "f56473b2",
   "metadata": {},
   "outputs": [
    {
     "data": {
      "text/html": [
       "<div>\n",
       "<style scoped>\n",
       "    .dataframe tbody tr th:only-of-type {\n",
       "        vertical-align: middle;\n",
       "    }\n",
       "\n",
       "    .dataframe tbody tr th {\n",
       "        vertical-align: top;\n",
       "    }\n",
       "\n",
       "    .dataframe thead th {\n",
       "        text-align: right;\n",
       "    }\n",
       "</style>\n",
       "<table border=\"1\" class=\"dataframe\">\n",
       "  <thead>\n",
       "    <tr style=\"text-align: right;\">\n",
       "      <th></th>\n",
       "      <th>Name</th>\n",
       "      <th>Age</th>\n",
       "      <th>City</th>\n",
       "      <th>Salary</th>\n",
       "    </tr>\n",
       "  </thead>\n",
       "  <tbody>\n",
       "    <tr>\n",
       "      <th>0</th>\n",
       "      <td>Alice</td>\n",
       "      <td>25</td>\n",
       "      <td>New York</td>\n",
       "      <td>70000</td>\n",
       "    </tr>\n",
       "    <tr>\n",
       "      <th>1</th>\n",
       "      <td>Bob</td>\n",
       "      <td>39</td>\n",
       "      <td>London</td>\n",
       "      <td>80000</td>\n",
       "    </tr>\n",
       "    <tr>\n",
       "      <th>2</th>\n",
       "      <td>Charlie</td>\n",
       "      <td>40</td>\n",
       "      <td>Paris</td>\n",
       "      <td>90000</td>\n",
       "    </tr>\n",
       "    <tr>\n",
       "      <th>3</th>\n",
       "      <td>David</td>\n",
       "      <td>12</td>\n",
       "      <td>New York</td>\n",
       "      <td>0</td>\n",
       "    </tr>\n",
       "  </tbody>\n",
       "</table>\n",
       "</div>"
      ],
      "text/plain": [
       "      Name  Age      City  Salary\n",
       "0    Alice   25  New York   70000\n",
       "1      Bob   39    London   80000\n",
       "2  Charlie   40     Paris   90000\n",
       "3    David   12  New York       0"
      ]
     },
     "execution_count": 6,
     "metadata": {},
     "output_type": "execute_result"
    }
   ],
   "source": [
    "df"
   ]
  },
  {
   "cell_type": "code",
   "execution_count": null,
   "id": "ad1fe191",
   "metadata": {},
   "outputs": [],
   "source": []
  }
 ],
 "metadata": {
  "kernelspec": {
   "display_name": "Python 3",
   "language": "python",
   "name": "python3"
  },
  "language_info": {
   "codemirror_mode": {
    "name": "ipython",
    "version": 3
   },
   "file_extension": ".py",
   "mimetype": "text/x-python",
   "name": "python",
   "nbconvert_exporter": "python",
   "pygments_lexer": "ipython3",
   "version": "3.11.9"
  }
 },
 "nbformat": 4,
 "nbformat_minor": 5
}
