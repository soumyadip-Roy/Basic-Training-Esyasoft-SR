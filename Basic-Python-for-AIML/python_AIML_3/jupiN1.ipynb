{
 "cells": [
  {
   "cell_type": "markdown",
   "id": "f2f7ae6f",
   "metadata": {},
   "source": [
    "# First Jupyter Application"
   ]
  },
  {
   "cell_type": "code",
   "execution_count": 2,
   "id": "5effcf9b",
   "metadata": {},
   "outputs": [
    {
     "name": "stdout",
     "output_type": "stream",
     "text": [
      "3\n"
     ]
    }
   ],
   "source": [
    "a =3\n",
    "b =4\n",
    "print(a)"
   ]
  },
  {
   "cell_type": "code",
   "execution_count": null,
   "id": "5ac395df",
   "metadata": {},
   "outputs": [],
   "source": []
  },
  {
   "cell_type": "markdown",
   "id": "6dba5df1",
   "metadata": {},
   "source": []
  },
  {
   "cell_type": "markdown",
   "id": "5f572fa0",
   "metadata": {},
   "source": []
  }
 ],
 "metadata": {
  "kernelspec": {
   "display_name": "Python 3",
   "language": "python",
   "name": "python3"
  },
  "language_info": {
   "codemirror_mode": {
    "name": "ipython",
    "version": 3
   },
   "file_extension": ".py",
   "mimetype": "text/x-python",
   "name": "python",
   "nbconvert_exporter": "python",
   "pygments_lexer": "ipython3",
   "version": "3.11.9"
  }
 },
 "nbformat": 4,
 "nbformat_minor": 5
}
